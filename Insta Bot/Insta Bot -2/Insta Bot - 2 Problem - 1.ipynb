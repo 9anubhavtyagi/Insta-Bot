{
 "cells": [
  {
   "cell_type": "markdown",
   "id": "ed26514f",
   "metadata": {},
   "source": [
    "### CREDENTIALS"
   ]
  },
  {
   "cell_type": "code",
   "execution_count": 1,
   "id": "8a0a2673",
   "metadata": {},
   "outputs": [
    {
     "name": "stdout",
     "output_type": "stream",
     "text": [
      "Enter your Ig Handle: 9anubhavtyagi\n",
      "Enter your Ig Password: GAX@instagram-9\n"
     ]
    }
   ],
   "source": [
    "IG_LINK = 'https://www.instagram.com/'\n",
    "\n",
    "USERNAME = input('Enter your Ig Handle: ')\n",
    "PASSWORD = input('Enter your Ig Password: ')"
   ]
  },
  {
   "cell_type": "markdown",
   "id": "de3dba46",
   "metadata": {},
   "source": [
    "### Module Imports"
   ]
  },
  {
   "cell_type": "code",
   "execution_count": 2,
   "id": "e8f694a9",
   "metadata": {},
   "outputs": [],
   "source": [
    "from selenium import webdriver\n",
    "from webdriver_manager.chrome import ChromeDriverManager\n",
    "\n",
    "from selenium.webdriver.common.by import By\n",
    "from selenium.webdriver.common.keys import Keys\n",
    "from selenium.webdriver.chrome.service import Service\n",
    "\n",
    "from selenium.webdriver.support.ui import WebDriverWait\n",
    "from selenium.webdriver.support import expected_conditions as EC\n",
    "\n",
    "from selenium.webdriver.support.select import Select\n",
    "from selenium.common import exceptions as SCE\n",
    "\n",
    "import time"
   ]
  },
  {
   "cell_type": "code",
   "execution_count": 3,
   "id": "78ed82f0",
   "metadata": {},
   "outputs": [],
   "source": [
    "import numpy as np\n",
    "import pandas as pd\n",
    "import matplotlib.pyplot as plt"
   ]
  },
  {
   "cell_type": "markdown",
   "id": "2235d2c9",
   "metadata": {},
   "source": [
    "### Starting session"
   ]
  },
  {
   "cell_type": "code",
   "execution_count": 4,
   "id": "480181df",
   "metadata": {},
   "outputs": [
    {
     "name": "stderr",
     "output_type": "stream",
     "text": [
      "\n",
      "\n",
      "====== WebDriver manager ======\n",
      "Current google-chrome version is 97.0.4692\n",
      "Get LATEST chromedriver version for 97.0.4692 google-chrome\n",
      "Trying to download new driver from https://chromedriver.storage.googleapis.com/97.0.4692.71/chromedriver_win32.zip\n",
      "Driver has been saved in cache [C:\\Users\\anubh\\.wdm\\drivers\\chromedriver\\win32\\97.0.4692.71]\n"
     ]
    }
   ],
   "source": [
    "service = Service(ChromeDriverManager().install())\n",
    "driver = webdriver.Chrome(service=service)\n",
    "\n",
    "driver.maximize_window()"
   ]
  },
  {
   "cell_type": "markdown",
   "id": "18bf1a5c",
   "metadata": {},
   "source": [
    "**wait object**"
   ]
  },
  {
   "cell_type": "code",
   "execution_count": 5,
   "id": "9b8da158",
   "metadata": {},
   "outputs": [],
   "source": [
    "wait = WebDriverWait(driver, 10)"
   ]
  },
  {
   "cell_type": "code",
   "execution_count": null,
   "id": "70bf685b",
   "metadata": {},
   "outputs": [],
   "source": []
  },
  {
   "cell_type": "markdown",
   "id": "db6c092c",
   "metadata": {},
   "source": [
    "# 1.) a. From the list of instagram handles you obtained when you searched ‘food’ in previous project. Open the first 10 handles and find the top 5 which have the highest number of followers"
   ]
  },
  {
   "cell_type": "markdown",
   "id": "d3a670f8",
   "metadata": {},
   "source": [
    "### login function"
   ]
  },
  {
   "cell_type": "code",
   "execution_count": 6,
   "id": "f2a68e10",
   "metadata": {},
   "outputs": [],
   "source": [
    "def log_in(driver, wait, username, password):\n",
    "    # visit instagram\n",
    "    driver.get(IG_LINK)\n",
    "    time.sleep(3)\n",
    "    \n",
    "    # wait until log-in form is loaded -> by checking username box\n",
    "    wait.until(EC.presence_of_element_located((By.NAME, 'username')))\n",
    "    \n",
    "    username_box = driver.find_element(By.NAME, 'username')\n",
    "    username_box.send_keys(username)\n",
    "    \n",
    "    password_box = driver.find_element(By.NAME, 'password')\n",
    "    password_box.send_keys(password)\n",
    "    \n",
    "    password_box.submit()\n",
    "    time.sleep(3)\n",
    "    \n",
    "    \n",
    "    # avoid save login info\n",
    "    try:\n",
    "        # wait until or if save login info option appears\n",
    "        wait.until(EC.presence_of_element_located((By.CLASS_NAME, 'y3zKF')))\n",
    "        ele = driver.find_element(By.CLASS_NAME, 'y3zKF')\n",
    "        ele.click()\n",
    "        \n",
    "    except:\n",
    "        print('No login info save option appears')\n",
    "    \n",
    "    \n",
    "    time.sleep(2)\n",
    "    \n",
    "\n",
    "    # avoid turning on notifications\n",
    "    try:\n",
    "        # wait until or if turn-on notifications option appears\n",
    "        wait.until(EC.presence_of_element_located((By.CLASS_NAME, 'HoLwm')))\n",
    "        ele = driver.find_element(By.CLASS_NAME, 'HoLwm')\n",
    "        ele.click()\n",
    "        \n",
    "    except:\n",
    "        print('No turn-on notifications option appears')\n"
   ]
  },
  {
   "cell_type": "markdown",
   "id": "fda46f6c",
   "metadata": {},
   "source": [
    "## LOGIN"
   ]
  },
  {
   "cell_type": "code",
   "execution_count": 7,
   "id": "dc42b93b",
   "metadata": {},
   "outputs": [],
   "source": [
    "log_in(driver, wait, USERNAME, PASSWORD)"
   ]
  },
  {
   "cell_type": "code",
   "execution_count": null,
   "id": "79e6f73a",
   "metadata": {},
   "outputs": [],
   "source": []
  },
  {
   "cell_type": "markdown",
   "id": "bb6fce6f",
   "metadata": {},
   "source": [
    "### function to search"
   ]
  },
  {
   "cell_type": "code",
   "execution_count": 8,
   "id": "814e2a48",
   "metadata": {},
   "outputs": [],
   "source": [
    "def search(driver, wait, text):\n",
    "    # wait for search_box\n",
    "    wait.until(EC.presence_of_element_located((By.XPATH, '//input[@placeholder=\"Search\"]')))\n",
    "    \n",
    "    # Enter text in search_box\n",
    "    search_box = driver.find_element(By.XPATH, '//input[@placeholder=\"Search\"]')\n",
    "    search_box.clear()\n",
    "    search_box.send_keys(text)\n",
    "    \n",
    "    time.sleep(3)"
   ]
  },
  {
   "cell_type": "markdown",
   "id": "2e395d86",
   "metadata": {},
   "source": [
    "## Search food"
   ]
  },
  {
   "cell_type": "code",
   "execution_count": 9,
   "id": "db21719a",
   "metadata": {},
   "outputs": [],
   "source": [
    "search(driver, wait, 'food')"
   ]
  },
  {
   "cell_type": "code",
   "execution_count": null,
   "id": "51e2af73",
   "metadata": {},
   "outputs": [],
   "source": []
  },
  {
   "cell_type": "markdown",
   "id": "84f5a0cf",
   "metadata": {},
   "source": [
    "### function to get search result handles link"
   ]
  },
  {
   "cell_type": "code",
   "execution_count": 10,
   "id": "f955d1d3",
   "metadata": {},
   "outputs": [],
   "source": [
    "def get_search_result_handle_links(driver):\n",
    "    # list to store links\n",
    "    handles_link = []\n",
    "    \n",
    "    # find anchor tags of search result\n",
    "    ele_list = driver.find_elements(By.XPATH, '//div[@class = \"_01UL2\"]/div/div/a')\n",
    "    \n",
    "    # extract links and put them in list (avoid tags)\n",
    "    for ele in ele_list:\n",
    "        link = ele.get_attribute('href')\n",
    "        if '/tags/' not in link:\n",
    "            handles_link.append(link)\n",
    "            \n",
    "    return handles_link"
   ]
  },
  {
   "cell_type": "markdown",
   "id": "6bf9cc0c",
   "metadata": {},
   "source": [
    "## Get Handle links"
   ]
  },
  {
   "cell_type": "code",
   "execution_count": 11,
   "id": "83174bfa",
   "metadata": {},
   "outputs": [],
   "source": [
    "food_handle_links = get_search_result_handle_links(driver)[:10]\n",
    "food_handle_links = np.array(food_handle_links)\n",
    "# print(*food_handles_link, sep='\\n')"
   ]
  },
  {
   "cell_type": "code",
   "execution_count": null,
   "id": "bbe12095",
   "metadata": {},
   "outputs": [],
   "source": []
  },
  {
   "cell_type": "markdown",
   "id": "3f528be2",
   "metadata": {},
   "source": [
    "### function to get name of handle from link"
   ]
  },
  {
   "cell_type": "code",
   "execution_count": 12,
   "id": "765aa993",
   "metadata": {},
   "outputs": [],
   "source": [
    "def get_handle_name_from_link(handle_link):\n",
    "    return handle_link[26:len(handle_link) -1]"
   ]
  },
  {
   "cell_type": "markdown",
   "id": "886a025e",
   "metadata": {},
   "source": [
    "### Extract handle name from links"
   ]
  },
  {
   "cell_type": "code",
   "execution_count": 13,
   "id": "76d9286f",
   "metadata": {},
   "outputs": [],
   "source": [
    "food_handle_names = []\n",
    "\n",
    "for link in food_handle_links:\n",
    "    food_handle_names.append(get_handle_name_from_link(link))\n",
    "    \n",
    "food_handle_names = np.array(food_handle_names)"
   ]
  },
  {
   "cell_type": "code",
   "execution_count": 14,
   "id": "7e68457f",
   "metadata": {},
   "outputs": [
    {
     "data": {
      "text/plain": [
       "array(['foodtalkindia', 'delhi_street_food1', 'foodie_incarnate',\n",
       "       'dilsefoodie', 'food_fetish17', 'food_food_delhi', 'food',\n",
       "       'delhi_streets_food', 'food_lunatic', 'delhifoodwalks'],\n",
       "      dtype='<U18')"
      ]
     },
     "execution_count": 14,
     "metadata": {},
     "output_type": "execute_result"
    }
   ],
   "source": [
    "food_handle_names"
   ]
  },
  {
   "cell_type": "code",
   "execution_count": null,
   "id": "67ee2c66",
   "metadata": {},
   "outputs": [],
   "source": []
  },
  {
   "cell_type": "markdown",
   "id": "b951675e",
   "metadata": {},
   "source": [
    "### function to get followers count"
   ]
  },
  {
   "cell_type": "code",
   "execution_count": 15,
   "id": "c7a1a014",
   "metadata": {},
   "outputs": [],
   "source": [
    "def get_followers_count(driver, wait, handle_link):\n",
    "    driver.get(handle_link)\n",
    "    time.sleep(3)\n",
    "    \n",
    "    # handles name from link\n",
    "    handle_name = handle_link[26:len(handle_link) -1]\n",
    "    \n",
    "    # wait for followers count to be loaded on page\n",
    "    wait.until(EC.presence_of_element_located((By.XPATH, f'//a[@href = \"/{handle_name}/followers/\"]/span')))\n",
    "\n",
    "    # followers count\n",
    "    followers_count = driver.find_element(By.XPATH, f'//a[@href = \"/{handle_name}/followers/\"]/span').text\n",
    "    \n",
    "    # convert followers count to numeric\n",
    "    if followers_count[-1] == 'k':\n",
    "        followers_count = float(followers_count[:len(followers_count) -1])*1000\n",
    "    elif followers_count[-1] == 'm':\n",
    "        followers_count = float(followers_count[:len(followers_count) -1])*1000000\n",
    "    else:\n",
    "        followers_count = float(followers_count)\n",
    "  \n",
    "\n",
    "    return int(followers_count)\n"
   ]
  },
  {
   "cell_type": "markdown",
   "id": "f598e9e5",
   "metadata": {},
   "source": [
    "## fetch handle details"
   ]
  },
  {
   "cell_type": "code",
   "execution_count": 16,
   "id": "791ce37d",
   "metadata": {},
   "outputs": [],
   "source": [
    "food_handle_followers_counts = []\n",
    "\n",
    "for link in food_handle_links:\n",
    "    food_handle_followers_counts.append(get_followers_count(driver, wait, link))\n",
    "    \n",
    "food_handle_followers_counts = np.array(food_handle_followers_counts)"
   ]
  },
  {
   "cell_type": "code",
   "execution_count": 17,
   "id": "2ff3703a",
   "metadata": {},
   "outputs": [
    {
     "data": {
      "text/plain": [
       "array([ 307000,   54700, 1100000,  962000,     523,   65400,  158000,\n",
       "         32600,  128000,  159000])"
      ]
     },
     "execution_count": 17,
     "metadata": {},
     "output_type": "execute_result"
    }
   ],
   "source": [
    "food_handle_followers_counts"
   ]
  },
  {
   "cell_type": "markdown",
   "id": "081a488d",
   "metadata": {},
   "source": [
    "## Top 5 handles"
   ]
  },
  {
   "cell_type": "code",
   "execution_count": 18,
   "id": "14e1efc7",
   "metadata": {},
   "outputs": [],
   "source": [
    "# sorted indices based on followers count\n",
    "sorted_indices = food_handle_followers_counts.argsort()[::-1]\n",
    "\n",
    "top_5_food_handle_names = food_handle_names[sorted_indices][:5]\n",
    "top_5_food_handle_links = food_handle_links[sorted_indices][:5]\n",
    "top_5_food_handle_followers_counts = food_handle_followers_counts[sorted_indices][:5]\n"
   ]
  },
  {
   "cell_type": "code",
   "execution_count": 19,
   "id": "59cdad90",
   "metadata": {},
   "outputs": [
    {
     "name": "stdout",
     "output_type": "stream",
     "text": [
      "foodie_incarnate --> 1100000\n",
      "dilsefoodie --> 962000\n",
      "foodtalkindia --> 307000\n",
      "delhifoodwalks --> 159000\n",
      "food --> 158000\n"
     ]
    }
   ],
   "source": [
    "for i in range(5):\n",
    "    print(f\"{top_5_food_handle_names[i]} --> {top_5_food_handle_followers_counts[i]}\")"
   ]
  },
  {
   "cell_type": "code",
   "execution_count": null,
   "id": "b02ee81a",
   "metadata": {},
   "outputs": [],
   "source": []
  },
  {
   "cell_type": "markdown",
   "id": "1af58053",
   "metadata": {},
   "source": [
    "# 1.) b. Now Find the number of posts these handles have done in the previous 3 days."
   ]
  },
  {
   "cell_type": "code",
   "execution_count": 20,
   "id": "148bdc7b",
   "metadata": {},
   "outputs": [],
   "source": [
    "# stroing top_5_food_handle_links in food_handle_links\n",
    "food_handle_links = top_5_food_handle_links\n",
    "\n",
    "# stroing top_5_food_handle_names in food_handle_names\n",
    "food_handle_names = top_5_food_handle_names\n",
    "\n",
    "# stroing top_5_food_handle_followers_counts in food_handle_followers_counts\n",
    "food_handle_followers_counts = top_5_food_handle_followers_counts"
   ]
  },
  {
   "cell_type": "markdown",
   "id": "96a5bf22",
   "metadata": {},
   "source": [
    "### function to get last 'n' days post"
   ]
  },
  {
   "cell_type": "code",
   "execution_count": 21,
   "id": "9101d6f7",
   "metadata": {},
   "outputs": [],
   "source": [
    "def get_last_n_days_post_count(driver, wait, handle_link, num_days):\n",
    "    post_count = 0\n",
    "    i = 1\n",
    "    \n",
    "    while True:\n",
    "        driver.get(handle_link)\n",
    "        time.sleep(3)\n",
    "        \n",
    "        # wait for posts to be loaded\n",
    "        wait.until(EC.presence_of_element_located((By.XPATH, '//*[@id=\"react-root\"]/section/main/div/div[3]/article/div[1]/div/div/div/a')))\n",
    "\n",
    "        # load posts\n",
    "        posts_arr = driver.find_elements(By.XPATH, '//*[@id=\"react-root\"]/section/main/div/div[3]/article/div[1]/div/div/div/a')\n",
    "        \n",
    "        # until ith post is not loaded in page run below code\n",
    "        while i > len(posts_arr):\n",
    "            # scroll\n",
    "            curr_page_height = driver.execute_script('return document.body.scrollHeight;')\n",
    "            driver.execute_script(f'window.scrollTo(0, {curr_page_height});')\n",
    "            time.sleep(2)\n",
    "            \n",
    "            # again load posts\n",
    "            posts_arr = driver.find_elements(By.XPATH, '//*[@id=\"react-root\"]/section/main/div/div[3]/article/div[1]/div/div/div/a')\n",
    "            \n",
    "        \n",
    "        #click on ith post\n",
    "        posts_arr[i-1].click()\n",
    "        time.sleep(3)\n",
    "        \n",
    "        # wait for time string\n",
    "        wait.until(EC.presence_of_element_located((By.XPATH, '/html/body/div[6]/div[3]/div/article/div/div[2]/div/div/div[2]/div[2]/a/time')))\n",
    "            \n",
    "        # extract time_string\n",
    "        time_string = driver.find_element(By.XPATH, '/html/body/div[6]/div[3]/div/article/div/div[2]/div/div/div[2]/div[2]/a/time').text\n",
    "        \n",
    "        # extract number and unit of time from time string\n",
    "        number, unit, _ = time_string.split()\n",
    "        number = int(number)\n",
    "        \n",
    "        \n",
    "        # if unit is hour, min, or sec --> increment post_count \n",
    "        if 'HOUR' in unit or 'MIN' in unit or 'SEC' in unit:\n",
    "            post_count += 1\n",
    "        \n",
    "        # if unit is day, but less than or equal to num_days --> increment post_count\n",
    "        elif 'DAY' in unit and number <= num_days:\n",
    "            post_count += 1\n",
    "            \n",
    "        # otherwise break the loop\n",
    "        else:\n",
    "            break\n",
    "        \n",
    "        i += 1\n",
    "        \n",
    "    return post_count"
   ]
  },
  {
   "cell_type": "markdown",
   "id": "6ffb1ed5",
   "metadata": {},
   "source": [
    "### fetch last 3 days post counts"
   ]
  },
  {
   "cell_type": "code",
   "execution_count": 22,
   "id": "e9983194",
   "metadata": {},
   "outputs": [
    {
     "data": {
      "text/plain": [
       "array([5, 3, 3, 9, 1])"
      ]
     },
     "execution_count": 22,
     "metadata": {},
     "output_type": "execute_result"
    }
   ],
   "source": [
    "food_handle_posts_counts = []\n",
    "\n",
    "for link in food_handle_links:\n",
    "    food_handle_posts_counts.append(get_last_n_days_post_count(driver, wait, link, 3))\n",
    "    \n",
    "food_handle_posts_counts = np.array(food_handle_posts_counts)\n",
    "food_handle_posts_counts"
   ]
  },
  {
   "cell_type": "markdown",
   "id": "48ffcecb",
   "metadata": {},
   "source": [
    "## Top 3 food handles by posts count"
   ]
  },
  {
   "cell_type": "code",
   "execution_count": 23,
   "id": "205d2015",
   "metadata": {},
   "outputs": [],
   "source": [
    "# sorted indices based on followers count\n",
    "sorted_indices = food_handle_posts_counts.argsort()[::-1]\n",
    "\n",
    "top_3_food_handle_names = food_handle_names[sorted_indices][:3]\n",
    "top_3_food_handle_links = food_handle_links[sorted_indices][:3]\n",
    "top_3_food_handle_posts_counts = food_handle_posts_counts[sorted_indices][:3]\n",
    "top_3_food_handle_followers_counts = food_handle_followers_counts[sorted_indices][:3]\n"
   ]
  },
  {
   "cell_type": "code",
   "execution_count": 24,
   "id": "a98f47d8",
   "metadata": {},
   "outputs": [
    {
     "name": "stdout",
     "output_type": "stream",
     "text": [
      "delhifoodwalks --> 9\n",
      "foodie_incarnate --> 5\n",
      "foodtalkindia --> 3\n"
     ]
    }
   ],
   "source": [
    "for i in range(3):\n",
    "    print(f\"{top_3_food_handle_names[i]} --> {top_3_food_handle_posts_counts[i]}\")"
   ]
  },
  {
   "cell_type": "code",
   "execution_count": null,
   "id": "79ce5802",
   "metadata": {},
   "outputs": [],
   "source": []
  },
  {
   "cell_type": "markdown",
   "id": "2e5f3d18",
   "metadata": {},
   "source": [
    "# 1.) c. Depict above information using a suitable graphs."
   ]
  },
  {
   "cell_type": "markdown",
   "id": "5dafdc57",
   "metadata": {},
   "source": [
    "## Bar Graph of handles and their followers count"
   ]
  },
  {
   "cell_type": "code",
   "execution_count": 25,
   "id": "6f6d0b53",
   "metadata": {},
   "outputs": [
    {
     "data": {
      "image/png": "[encoded data removed]",
      "text/plain": [
       "<Figure size 432x288 with 1 Axes>"
      ]
     },
     "metadata": {
      "needs_background": "light"
     },
     "output_type": "display_data"
    }
   ],
   "source": [
    "plt.bar(top_5_food_handle_names, top_5_food_handle_followers_counts, width=0.6)\n",
    "\n",
    "# Naming graph\n",
    "plt.title('Bar Graph of handles and their followers count')\n",
    "plt.xlabel('IG Handles')\n",
    "plt.ylabel('Number of Followers')\n",
    "\n",
    "# rotate x-axis labels\n",
    "plt.xticks(rotation=25)\n",
    "\n",
    "plt.show()"
   ]
  },
  {
   "cell_type": "code",
   "execution_count": null,
   "id": "f024b288",
   "metadata": {},
   "outputs": [],
   "source": []
  },
  {
   "cell_type": "markdown",
   "id": "c7c9a09d",
   "metadata": {},
   "source": [
    "## Bubble chart of handle and their  last 3 days posts (with followers count as weight)"
   ]
  },
  {
   "cell_type": "code",
   "execution_count": 26,
   "id": "eb9a6986",
   "metadata": {},
   "outputs": [
    {
     "data": {
      "image/png": "[encoded data removed]",
      "text/plain": [
       "<Figure size 432x288 with 1 Axes>"
      ]
     },
     "metadata": {
      "needs_background": "light"
     },
     "output_type": "display_data"
    }
   ],
   "source": [
    "plt.scatter(top_3_food_handle_names, top_3_food_handle_posts_counts, s = top_3_food_handle_followers_counts/1000, c = top_3_food_handle_followers_counts, alpha = 0.3, marker='*', edgecolor='black')\n",
    "\n",
    "plt.title('Bubble chart --> No. of posts in last 3 days (follower count is weight of start-point)')\n",
    "plt.xlabel('Food Handles')\n",
    "plt.ylabel('Posts')\n",
    "\n",
    "plt.xticks(rotation = 25)\n",
    "plt.show()"
   ]
  },
  {
   "cell_type": "code",
   "execution_count": null,
   "id": "f04199c8",
   "metadata": {},
   "outputs": [],
   "source": []
  },
  {
   "cell_type": "markdown",
   "id": "d7b120d8",
   "metadata": {},
   "source": [
    "# Storing above found data"
   ]
  },
  {
   "cell_type": "markdown",
   "id": "b6ed6e2f",
   "metadata": {},
   "source": [
    "#### so that I can use this data in other python notebooks"
   ]
  },
  {
   "cell_type": "markdown",
   "id": "d40892b3",
   "metadata": {},
   "source": [
    "## Top 5 data"
   ]
  },
  {
   "cell_type": "code",
   "execution_count": 28,
   "id": "ab756680",
   "metadata": {},
   "outputs": [
    {
     "data": {
      "text/html": [
       "<div>\n",
       "<style scoped>\n",
       "    .dataframe tbody tr th:only-of-type {\n",
       "        vertical-align: middle;\n",
       "    }\n",
       "\n",
       "    .dataframe tbody tr th {\n",
       "        vertical-align: top;\n",
       "    }\n",
       "\n",
       "    .dataframe thead th {\n",
       "        text-align: right;\n",
       "    }\n",
       "</style>\n",
       "<table border=\"1\" class=\"dataframe\">\n",
       "  <thead>\n",
       "    <tr style=\"text-align: right;\">\n",
       "      <th></th>\n",
       "      <th>handle_name</th>\n",
       "      <th>followers_count</th>\n",
       "      <th>handle_link</th>\n",
       "    </tr>\n",
       "  </thead>\n",
       "  <tbody>\n",
       "    <tr>\n",
       "      <th>0</th>\n",
       "      <td>foodie_incarnate</td>\n",
       "      <td>1100000</td>\n",
       "      <td>https://www.instagram.com/foodie_incarnate/</td>\n",
       "    </tr>\n",
       "    <tr>\n",
       "      <th>1</th>\n",
       "      <td>dilsefoodie</td>\n",
       "      <td>962000</td>\n",
       "      <td>https://www.instagram.com/dilsefoodie/</td>\n",
       "    </tr>\n",
       "    <tr>\n",
       "      <th>2</th>\n",
       "      <td>foodtalkindia</td>\n",
       "      <td>307000</td>\n",
       "      <td>https://www.instagram.com/foodtalkindia/</td>\n",
       "    </tr>\n",
       "    <tr>\n",
       "      <th>3</th>\n",
       "      <td>delhifoodwalks</td>\n",
       "      <td>159000</td>\n",
       "      <td>https://www.instagram.com/delhifoodwalks/</td>\n",
       "    </tr>\n",
       "    <tr>\n",
       "      <th>4</th>\n",
       "      <td>food</td>\n",
       "      <td>158000</td>\n",
       "      <td>https://www.instagram.com/food/</td>\n",
       "    </tr>\n",
       "  </tbody>\n",
       "</table>\n",
       "</div>"
      ],
      "text/plain": [
       "        handle_name  followers_count  \\\n",
       "0  foodie_incarnate          1100000   \n",
       "1       dilsefoodie           962000   \n",
       "2     foodtalkindia           307000   \n",
       "3    delhifoodwalks           159000   \n",
       "4              food           158000   \n",
       "\n",
       "                                   handle_link  \n",
       "0  https://www.instagram.com/foodie_incarnate/  \n",
       "1       https://www.instagram.com/dilsefoodie/  \n",
       "2     https://www.instagram.com/foodtalkindia/  \n",
       "3    https://www.instagram.com/delhifoodwalks/  \n",
       "4              https://www.instagram.com/food/  "
      ]
     },
     "execution_count": 28,
     "metadata": {},
     "output_type": "execute_result"
    }
   ],
   "source": [
    "df = pd.DataFrame({'handle_name': top_5_food_handle_names,\n",
    "                   'followers_count': top_5_food_handle_followers_counts,\n",
    "                   'handle_link': top_5_food_handle_links\n",
    "                  })\n",
    "\n",
    "df"
   ]
  },
  {
   "cell_type": "code",
   "execution_count": 29,
   "id": "0a8be96d",
   "metadata": {},
   "outputs": [],
   "source": [
    "df.to_csv(\"top5.csv\")"
   ]
  },
  {
   "cell_type": "code",
   "execution_count": null,
   "id": "41e2af76",
   "metadata": {},
   "outputs": [],
   "source": []
  },
  {
   "cell_type": "markdown",
   "id": "f98c8ee0",
   "metadata": {},
   "source": [
    "## Top 3 data"
   ]
  },
  {
   "cell_type": "code",
   "execution_count": 30,
   "id": "e37b95b9",
   "metadata": {},
   "outputs": [
    {
     "data": {
      "text/html": [
       "<div>\n",
       "<style scoped>\n",
       "    .dataframe tbody tr th:only-of-type {\n",
       "        vertical-align: middle;\n",
       "    }\n",
       "\n",
       "    .dataframe tbody tr th {\n",
       "        vertical-align: top;\n",
       "    }\n",
       "\n",
       "    .dataframe thead th {\n",
       "        text-align: right;\n",
       "    }\n",
       "</style>\n",
       "<table border=\"1\" class=\"dataframe\">\n",
       "  <thead>\n",
       "    <tr style=\"text-align: right;\">\n",
       "      <th></th>\n",
       "      <th>handle_name</th>\n",
       "      <th>followers_count</th>\n",
       "      <th>last_3_days_posts_count</th>\n",
       "      <th>handle_link</th>\n",
       "    </tr>\n",
       "  </thead>\n",
       "  <tbody>\n",
       "    <tr>\n",
       "      <th>0</th>\n",
       "      <td>delhifoodwalks</td>\n",
       "      <td>159000</td>\n",
       "      <td>9</td>\n",
       "      <td>https://www.instagram.com/delhifoodwalks/</td>\n",
       "    </tr>\n",
       "    <tr>\n",
       "      <th>1</th>\n",
       "      <td>foodie_incarnate</td>\n",
       "      <td>1100000</td>\n",
       "      <td>5</td>\n",
       "      <td>https://www.instagram.com/foodie_incarnate/</td>\n",
       "    </tr>\n",
       "    <tr>\n",
       "      <th>2</th>\n",
       "      <td>foodtalkindia</td>\n",
       "      <td>307000</td>\n",
       "      <td>3</td>\n",
       "      <td>https://www.instagram.com/foodtalkindia/</td>\n",
       "    </tr>\n",
       "  </tbody>\n",
       "</table>\n",
       "</div>"
      ],
      "text/plain": [
       "        handle_name  followers_count  last_3_days_posts_count  \\\n",
       "0    delhifoodwalks           159000                        9   \n",
       "1  foodie_incarnate          1100000                        5   \n",
       "2     foodtalkindia           307000                        3   \n",
       "\n",
       "                                   handle_link  \n",
       "0    https://www.instagram.com/delhifoodwalks/  \n",
       "1  https://www.instagram.com/foodie_incarnate/  \n",
       "2     https://www.instagram.com/foodtalkindia/  "
      ]
     },
     "execution_count": 30,
     "metadata": {},
     "output_type": "execute_result"
    }
   ],
   "source": [
    "df = pd.DataFrame({'handle_name': top_3_food_handle_names,\n",
    "                   'followers_count': top_3_food_handle_followers_counts,\n",
    "                   'last_3_days_posts_count': top_3_food_handle_posts_counts,\n",
    "                   'handle_link': top_3_food_handle_links\n",
    "                  })\n",
    "\n",
    "df"
   ]
  },
  {
   "cell_type": "code",
   "execution_count": 31,
   "id": "5ed51652",
   "metadata": {},
   "outputs": [],
   "source": [
    "df.to_csv(\"top3.csv\")"
   ]
  },
  {
   "cell_type": "code",
   "execution_count": null,
   "id": "f447f09f",
   "metadata": {},
   "outputs": [],
   "source": []
  }
 ],
 "metadata": {
  "kernelspec": {
   "display_name": "Python 3",
   "language": "python",
   "name": "python3"
  },
  "language_info": {
   "codemirror_mode": {
    "name": "ipython",
    "version": 3
   },
   "file_extension": ".py",
   "mimetype": "text/x-python",
   "name": "python",
   "nbconvert_exporter": "python",
   "pygments_lexer": "ipython3",
   "version": "3.8.8"
  }
 },
 "nbformat": 4,
 "nbformat_minor": 5
}
