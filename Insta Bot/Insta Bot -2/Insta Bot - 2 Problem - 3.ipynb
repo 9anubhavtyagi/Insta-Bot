{
 "cells": [
  {
   "cell_type": "markdown",
   "id": "45aebd03",
   "metadata": {},
   "source": [
    "### Credentials"
   ]
  },
  {
   "cell_type": "code",
   "execution_count": 1,
   "id": "6853aaae",
   "metadata": {},
   "outputs": [
    {
     "name": "stdout",
     "output_type": "stream",
     "text": [
      "Enter your Ig Handle: 9anubhavtyagi\n",
      "Enter your Ig Password: GAX@instagram-9\n"
     ]
    }
   ],
   "source": [
    "IG_LINK = 'https://www.instagram.com/'\n",
    "\n",
    "USERNAME = input('Enter your Ig Handle: ')\n",
    "PASSWORD = input('Enter your Ig Password: ')"
   ]
  },
  {
   "cell_type": "markdown",
   "id": "a5f995a7",
   "metadata": {},
   "source": [
    "### Module Imports"
   ]
  },
  {
   "cell_type": "code",
   "execution_count": 2,
   "id": "1621dae9",
   "metadata": {},
   "outputs": [],
   "source": [
    "from selenium import webdriver\n",
    "from webdriver_manager.chrome import ChromeDriverManager\n",
    "\n",
    "from selenium.webdriver.common.by import By\n",
    "from selenium.webdriver.common.keys import Keys\n",
    "from selenium.webdriver.chrome.service import Service\n",
    "\n",
    "from selenium.webdriver.support.ui import WebDriverWait\n",
    "from selenium.webdriver.support import expected_conditions as EC\n",
    "\n",
    "from selenium.webdriver.support.select import Select\n",
    "from selenium.common import exceptions as SCE\n",
    "\n",
    "import time"
   ]
  },
  {
   "cell_type": "code",
   "execution_count": 3,
   "id": "215fc0ca",
   "metadata": {},
   "outputs": [],
   "source": [
    "import numpy as np\n",
    "import pandas as pd\n",
    "import matplotlib.pyplot as plt"
   ]
  },
  {
   "cell_type": "markdown",
   "id": "197f8640",
   "metadata": {},
   "source": [
    "### Start session"
   ]
  },
  {
   "cell_type": "code",
   "execution_count": 4,
   "id": "55404f82",
   "metadata": {},
   "outputs": [
    {
     "name": "stderr",
     "output_type": "stream",
     "text": [
      "\n",
      "\n",
      "====== WebDriver manager ======\n",
      "Current google-chrome version is 97.0.4692\n",
      "Get LATEST chromedriver version for 97.0.4692 google-chrome\n",
      "Driver [C:\\Users\\anubh\\.wdm\\drivers\\chromedriver\\win32\\97.0.4692.71\\chromedriver.exe] found in cache\n"
     ]
    }
   ],
   "source": [
    "service = Service(ChromeDriverManager().install())\n",
    "driver = webdriver.Chrome(service=service)\n",
    "\n",
    "driver.maximize_window()"
   ]
  },
  {
   "cell_type": "markdown",
   "id": "ce369a7b",
   "metadata": {},
   "source": [
    "**wait object** "
   ]
  },
  {
   "cell_type": "code",
   "execution_count": 5,
   "id": "e7229e4a",
   "metadata": {},
   "outputs": [],
   "source": [
    "wait = WebDriverWait(driver, 10)"
   ]
  },
  {
   "cell_type": "code",
   "execution_count": null,
   "id": "0d4458c1",
   "metadata": {},
   "outputs": [],
   "source": []
  },
  {
   "cell_type": "markdown",
   "id": "9cbf1dcd",
   "metadata": {},
   "source": [
    "### function to login"
   ]
  },
  {
   "cell_type": "code",
   "execution_count": 6,
   "id": "31a64ce4",
   "metadata": {},
   "outputs": [],
   "source": [
    "def log_in(driver, wait, username, password):\n",
    "    # visit instagram\n",
    "    driver.get(IG_LINK)\n",
    "    time.sleep(3)\n",
    "    \n",
    "    # wait until log-in form is loaded -> by checking username box\n",
    "    wait.until(EC.presence_of_element_located((By.NAME, 'username')))\n",
    "    \n",
    "    username_box = driver.find_element(By.NAME, 'username')\n",
    "    username_box.send_keys(username)\n",
    "    \n",
    "    password_box = driver.find_element(By.NAME, 'password')\n",
    "    password_box.send_keys(password)\n",
    "    \n",
    "    password_box.submit()\n",
    "    time.sleep(3)\n",
    "    \n",
    "    \n",
    "    # avoid save login info\n",
    "    try:\n",
    "        # wait until or if save login info option appears\n",
    "        wait.until(EC.presence_of_element_located((By.CLASS_NAME, 'y3zKF')))\n",
    "        ele = driver.find_element(By.CLASS_NAME, 'y3zKF')\n",
    "        ele.click()\n",
    "        \n",
    "    except:\n",
    "        print('No login info save option appears')\n",
    "    \n",
    "    \n",
    "    time.sleep(2)\n",
    "    \n",
    "\n",
    "    # avoid turning on notifications\n",
    "    try:\n",
    "        # wait until or if turn-on notifications option appears\n",
    "        wait.until(EC.presence_of_element_located((By.CLASS_NAME, 'HoLwm')))\n",
    "        ele = driver.find_element(By.CLASS_NAME, 'HoLwm')\n",
    "        ele.click()\n",
    "        \n",
    "    except:\n",
    "        print('No turn-on notifications option appears')\n"
   ]
  },
  {
   "cell_type": "markdown",
   "id": "2b609f22",
   "metadata": {},
   "source": [
    "**log in to instagram** "
   ]
  },
  {
   "cell_type": "code",
   "execution_count": 7,
   "id": "b4d603f6",
   "metadata": {},
   "outputs": [],
   "source": [
    "log_in(driver, wait, USERNAME, PASSWORD)"
   ]
  },
  {
   "cell_type": "code",
   "execution_count": null,
   "id": "cab21a9e",
   "metadata": {},
   "outputs": [],
   "source": []
  },
  {
   "cell_type": "markdown",
   "id": "c0d976b1",
   "metadata": {},
   "source": [
    "### loading data from csv that I created in previous notebook"
   ]
  },
  {
   "cell_type": "code",
   "execution_count": 8,
   "id": "8899ef2b",
   "metadata": {},
   "outputs": [],
   "source": [
    "df = pd.read_csv('top5.csv')\n",
    "# df"
   ]
  },
  {
   "cell_type": "code",
   "execution_count": 9,
   "id": "50e5b3ee",
   "metadata": {},
   "outputs": [],
   "source": [
    "handle_names = df['handle_name'].values\n",
    "followers_counts = df['followers_count'].values\n",
    "handle_links = df['handle_link'].values"
   ]
  },
  {
   "cell_type": "code",
   "execution_count": null,
   "id": "7a3b87f8",
   "metadata": {},
   "outputs": [],
   "source": []
  },
  {
   "cell_type": "markdown",
   "id": "4ee5280c",
   "metadata": {},
   "source": [
    "# 3.) You need to also calculate average followers : likes ratio for the obtained handles. Followers : Likes ratio is calculated as follows:"
   ]
  },
  {
   "cell_type": "markdown",
   "id": "dfa69d87",
   "metadata": {},
   "source": [
    "## 3.) a. Find out the likes of the top 10 posts of the 5 handles obtained earlier."
   ]
  },
  {
   "cell_type": "markdown",
   "id": "487bd196",
   "metadata": {},
   "source": [
    "### function to get likes of a post"
   ]
  },
  {
   "cell_type": "code",
   "execution_count": 10,
   "id": "29b5e9ba",
   "metadata": {},
   "outputs": [],
   "source": [
    "def get_likes(driver, wait):    \n",
    "    try:\n",
    "        # extract likes\n",
    "        wait.until(EC.presence_of_element_located((By.XPATH, '/html/body/div[6]/div[3]/div/article/div/div[2]/div/div/div[2]/section[2]/div/div/a/span')))\n",
    "        likes_count = driver.find_element(By.XPATH, '/html/body/div[6]/div[3]/div/article/div/div[2]/div/div/div[2]/section[2]/div/div/a/span').text\n",
    "\n",
    "        # makes likes_count numeric\n",
    "        likes_count = likes_count.replace(',', '')\n",
    "        likes_count = int(likes_count)\n",
    "        \n",
    "    except:\n",
    "        likes_count = -1\n",
    "        \n",
    "    return likes_count"
   ]
  },
  {
   "cell_type": "markdown",
   "id": "2886e96b",
   "metadata": {},
   "source": [
    "### function to get 'n' posts likes"
   ]
  },
  {
   "cell_type": "code",
   "execution_count": 11,
   "id": "af0d732a",
   "metadata": {},
   "outputs": [],
   "source": [
    "def get_n_posts_likes(driver, wait, link, num):\n",
    "    # open link\n",
    "    driver.get(link)\n",
    "    \n",
    "    # list to store post's likes\n",
    "    posts_likes = []\n",
    "    posts_covered = 0\n",
    "    i = 0\n",
    "    \n",
    "    while True:\n",
    "        # if 'num posts are collected'\n",
    "        if posts_covered == num:\n",
    "            return posts_likes\n",
    "        \n",
    "        # load all posts tag\n",
    "        wait.until(EC.presence_of_element_located((By.XPATH, '//*[@id=\"react-root\"]/section/main/div/div[3]/article/div[1]/div/div/div/a')))\n",
    "        posts_ele = driver.find_elements(By.XPATH, '//*[@id=\"react-root\"]/section/main/div/div[3]/article/div[1]/div/div/div/a')\n",
    "        \n",
    "        # until ith posts is absent\n",
    "        while len(posts_ele) <= i:\n",
    "            # scroll and load posts_ele list again\n",
    "            driver.execute_script(f'window.scrollTo(0, document.body.scrollHeight);')\n",
    "            posts_ele = driver.find_elements(By.XPATH, '//*[@id=\"react-root\"]/section/main/div/div[3]/article/div[1]/div/div/div/a')\n",
    "           \n",
    "        # click on ith post\n",
    "        posts_ele[i].click()\n",
    "        time.sleep(2)\n",
    "        \n",
    "        # fetch likes count \n",
    "        likes_count = get_likes(driver, wait)\n",
    "        if likes_count != -1:\n",
    "            posts_likes.append(likes_count)\n",
    "            posts_covered += 1\n",
    "        \n",
    "        driver.back()\n",
    "        i += 1\n",
    "        \n",
    "    return posts_likes"
   ]
  },
  {
   "cell_type": "code",
   "execution_count": null,
   "id": "f03cd61c",
   "metadata": {},
   "outputs": [],
   "source": []
  },
  {
   "cell_type": "markdown",
   "id": "14ebc8b4",
   "metadata": {},
   "source": [
    "## Print likes, and store total of likes for further analysis"
   ]
  },
  {
   "cell_type": "code",
   "execution_count": 12,
   "id": "fc03d723",
   "metadata": {},
   "outputs": [
    {
     "name": "stdout",
     "output_type": "stream",
     "text": [
      "foodie_incarnate --> [53905, 42233, 51807, 12856, 139995, 21387, 11426, 24341, 881170, 30105]\n",
      "dilsefoodie --> [32052, 17168, 23823, 13541, 19057, 3269, 19212, 3185, 8439, 39060]\n",
      "foodtalkindia --> [167, 338, 355, 3873, 563, 1394, 293, 680, 271, 418]\n",
      "delhifoodwalks --> [779, 454, 442, 436, 1195, 276, 297, 685, 2323, 346]\n",
      "food --> [366, 359, 462, 456, 753, 933, 457, 727, 1058, 877]\n"
     ]
    }
   ],
   "source": [
    "# list to store total_likes\n",
    "total_likes_arr = []\n",
    "for i in range(5):\n",
    "    # fetch post_likes\n",
    "    posts_likes = get_n_posts_likes(driver, wait, handle_links[i], 10)\n",
    "    \n",
    "    # print post_likes\n",
    "    print(handle_names[i], end =' --> ')\n",
    "    print(posts_likes)\n",
    "    \n",
    "    # add sum of posts_likes in total_likes_arr\n",
    "    total_likes_arr.append(sum(posts_likes))"
   ]
  },
  {
   "cell_type": "code",
   "execution_count": null,
   "id": "3ffc12a7",
   "metadata": {},
   "outputs": [],
   "source": []
  },
  {
   "cell_type": "markdown",
   "id": "e8a7e4d1",
   "metadata": {},
   "source": [
    "## 3.) b. Calculate the average likes for a handle."
   ]
  },
  {
   "cell_type": "code",
   "execution_count": 13,
   "id": "fab2e407",
   "metadata": {},
   "outputs": [
    {
     "name": "stdout",
     "output_type": "stream",
     "text": [
      "foodie_incarnate --> 126922.5\n",
      "dilsefoodie --> 17880.6\n",
      "foodtalkindia --> 835.2\n",
      "delhifoodwalks --> 723.3\n",
      "food --> 644.8\n"
     ]
    }
   ],
   "source": [
    "average_likes_arr = np.array(total_likes_arr)/10\n",
    "\n",
    "for i in range(5):\n",
    "    print(f'{handle_names[i]} --> {average_likes_arr[i]}')"
   ]
  },
  {
   "cell_type": "code",
   "execution_count": null,
   "id": "fdf9f462",
   "metadata": {},
   "outputs": [],
   "source": []
  },
  {
   "cell_type": "markdown",
   "id": "d5555b80",
   "metadata": {},
   "source": [
    "## 3.) c. Divide the average likes obtained from the number of followers of the handle to get the average followers:like ratio of each handle."
   ]
  },
  {
   "cell_type": "code",
   "execution_count": 14,
   "id": "bab48a3a",
   "metadata": {},
   "outputs": [
    {
     "name": "stdout",
     "output_type": "stream",
     "text": [
      "foodie_incarnate --> 8.666706060785124\n",
      "dilsefoodie --> 53.80132657740792\n",
      "foodtalkindia --> 367.5766283524904\n",
      "delhifoodwalks --> 219.82579842389052\n",
      "food --> 245.0372208436725\n"
     ]
    }
   ],
   "source": [
    "fl_ratio = followers_counts/average_likes_arr\n",
    "\n",
    "for i in range(5):\n",
    "    print(f'{handle_names[i]} --> {fl_ratio[i]}')"
   ]
  },
  {
   "cell_type": "code",
   "execution_count": null,
   "id": "4e2930fd",
   "metadata": {},
   "outputs": [],
   "source": []
  },
  {
   "cell_type": "markdown",
   "id": "73a586aa",
   "metadata": {},
   "source": [
    "## 3.) d. Create a bar graph to depict the above obtained information."
   ]
  },
  {
   "cell_type": "code",
   "execution_count": 15,
   "id": "dd183406",
   "metadata": {},
   "outputs": [
    {
     "data": {
      "image/png": "[encoded data removed]",
      "text/plain": [
       "<Figure size 432x288 with 1 Axes>"
      ]
     },
     "metadata": {
      "needs_background": "light"
     },
     "output_type": "display_data"
    }
   ],
   "source": [
    "plt.bar(handle_names, fl_ratio, width=0.6)\n",
    "\n",
    "# Naming graph\n",
    "plt.title('Bar Graph of followers:like ratio')\n",
    "plt.xlabel('IG Handles')\n",
    "plt.ylabel('followers:like ratio')\n",
    "\n",
    "# rotate x-axis labels\n",
    "plt.xticks(rotation=25)\n",
    "\n",
    "plt.show()"
   ]
  },
  {
   "cell_type": "code",
   "execution_count": null,
   "id": "caf2ec76",
   "metadata": {},
   "outputs": [],
   "source": []
  },
  {
   "cell_type": "markdown",
   "id": "c1cb6112",
   "metadata": {},
   "source": [
    "# |||||||||||||||||||||||||||||||||||||||||||||||||||||||||||||||||||||||||||||||||||||||||||||||||||||||||||||||||||||||||||||||"
   ]
  },
  {
   "cell_type": "code",
   "execution_count": null,
   "id": "6ecc3983",
   "metadata": {},
   "outputs": [],
   "source": []
  }
 ],
 "metadata": {
  "kernelspec": {
   "display_name": "Python 3",
   "language": "python",
   "name": "python3"
  },
  "language_info": {
   "codemirror_mode": {
    "name": "ipython",
    "version": 3
   },
   "file_extension": ".py",
   "mimetype": "text/x-python",
   "name": "python",
   "nbconvert_exporter": "python",
   "pygments_lexer": "ipython3",
   "version": "3.8.8"
  }
 },
 "nbformat": 4,
 "nbformat_minor": 5
}
